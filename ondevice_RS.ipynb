{
  "nbformat": 4,
  "nbformat_minor": 0,
  "metadata": {
    "colab": {
      "provenance": [],
      "gpuType": "T4"
    },
    "kernelspec": {
      "name": "python3",
      "display_name": "Python 3"
    },
    "language_info": {
      "name": "python"
    },
    "accelerator": "GPU"
  },
  "cells": [
    {
      "cell_type": "code",
      "execution_count": null,
      "metadata": {
        "id": "YnqPM6X1QgiD"
      },
      "outputs": [],
      "source": []
    },
    {
      "cell_type": "code",
      "source": [
        "import tensorflow as tf\n",
        "from tensorflow.keras.models import Model\n",
        "from tensorflow.keras.layers import Input, Embedding, Dense, Flatten\n",
        "from tensorflow.keras.optimizers import Adam\n",
        "from sklearn.metrics import recall_score, precision_score, f1_score, mean_squared_error, mean_absolute_error\n",
        "import numpy as np\n",
        "import pandas as pd\n",
        "from sklearn.model_selection import train_test_split\n",
        "from google.colab import drive\n",
        "from tqdm import tqdm\n",
        "import itertools\n",
        "\n",
        "from tensorflow.keras.callbacks import EarlyStopping, ReduceLROnPlateau\n",
        "mlp_units = 128\n",
        "embedding_dim = 128\n",
        "\n"
      ],
      "metadata": {
        "id": "yIytameF-FK6"
      },
      "execution_count": 1,
      "outputs": []
    },
    {
      "cell_type": "code",
      "source": [
        "drive.mount(\"/content/gdrive/\")"
      ],
      "metadata": {
        "colab": {
          "base_uri": "https://localhost:8080/",
          "height": 304
        },
        "id": "ozP6LiZ4Q6CN",
        "outputId": "fa9061a8-8e8e-44b6-a44e-f24f71a6e674"
      },
      "execution_count": 2,
      "outputs": [
        {
          "output_type": "error",
          "ename": "MessageError",
          "evalue": "Error: credential propagation was unsuccessful",
          "traceback": [
            "\u001b[0;31m---------------------------------------------------------------------------\u001b[0m",
            "\u001b[0;31mMessageError\u001b[0m                              Traceback (most recent call last)",
            "\u001b[0;32m<ipython-input-2-b2e9ab868872>\u001b[0m in \u001b[0;36m<cell line: 1>\u001b[0;34m()\u001b[0m\n\u001b[0;32m----> 1\u001b[0;31m \u001b[0mdrive\u001b[0m\u001b[0;34m.\u001b[0m\u001b[0mmount\u001b[0m\u001b[0;34m(\u001b[0m\u001b[0;34m\"/content/gdrive/\"\u001b[0m\u001b[0;34m)\u001b[0m\u001b[0;34m\u001b[0m\u001b[0;34m\u001b[0m\u001b[0m\n\u001b[0m",
            "\u001b[0;32m/usr/local/lib/python3.10/dist-packages/google/colab/drive.py\u001b[0m in \u001b[0;36mmount\u001b[0;34m(mountpoint, force_remount, timeout_ms, readonly)\u001b[0m\n\u001b[1;32m     98\u001b[0m \u001b[0;32mdef\u001b[0m \u001b[0mmount\u001b[0m\u001b[0;34m(\u001b[0m\u001b[0mmountpoint\u001b[0m\u001b[0;34m,\u001b[0m \u001b[0mforce_remount\u001b[0m\u001b[0;34m=\u001b[0m\u001b[0;32mFalse\u001b[0m\u001b[0;34m,\u001b[0m \u001b[0mtimeout_ms\u001b[0m\u001b[0;34m=\u001b[0m\u001b[0;36m120000\u001b[0m\u001b[0;34m,\u001b[0m \u001b[0mreadonly\u001b[0m\u001b[0;34m=\u001b[0m\u001b[0;32mFalse\u001b[0m\u001b[0;34m)\u001b[0m\u001b[0;34m:\u001b[0m\u001b[0;34m\u001b[0m\u001b[0;34m\u001b[0m\u001b[0m\n\u001b[1;32m     99\u001b[0m   \u001b[0;34m\"\"\"Mount your Google Drive at the specified mountpoint path.\"\"\"\u001b[0m\u001b[0;34m\u001b[0m\u001b[0;34m\u001b[0m\u001b[0m\n\u001b[0;32m--> 100\u001b[0;31m   return _mount(\n\u001b[0m\u001b[1;32m    101\u001b[0m       \u001b[0mmountpoint\u001b[0m\u001b[0;34m,\u001b[0m\u001b[0;34m\u001b[0m\u001b[0;34m\u001b[0m\u001b[0m\n\u001b[1;32m    102\u001b[0m       \u001b[0mforce_remount\u001b[0m\u001b[0;34m=\u001b[0m\u001b[0mforce_remount\u001b[0m\u001b[0;34m,\u001b[0m\u001b[0;34m\u001b[0m\u001b[0;34m\u001b[0m\u001b[0m\n",
            "\u001b[0;32m/usr/local/lib/python3.10/dist-packages/google/colab/drive.py\u001b[0m in \u001b[0;36m_mount\u001b[0;34m(mountpoint, force_remount, timeout_ms, ephemeral, readonly)\u001b[0m\n\u001b[1;32m    135\u001b[0m   )\n\u001b[1;32m    136\u001b[0m   \u001b[0;32mif\u001b[0m \u001b[0mephemeral\u001b[0m\u001b[0;34m:\u001b[0m\u001b[0;34m\u001b[0m\u001b[0;34m\u001b[0m\u001b[0m\n\u001b[0;32m--> 137\u001b[0;31m     _message.blocking_request(\n\u001b[0m\u001b[1;32m    138\u001b[0m         \u001b[0;34m'request_auth'\u001b[0m\u001b[0;34m,\u001b[0m\u001b[0;34m\u001b[0m\u001b[0;34m\u001b[0m\u001b[0m\n\u001b[1;32m    139\u001b[0m         \u001b[0mrequest\u001b[0m\u001b[0;34m=\u001b[0m\u001b[0;34m{\u001b[0m\u001b[0;34m'authType'\u001b[0m\u001b[0;34m:\u001b[0m \u001b[0;34m'dfs_ephemeral'\u001b[0m\u001b[0;34m}\u001b[0m\u001b[0;34m,\u001b[0m\u001b[0;34m\u001b[0m\u001b[0;34m\u001b[0m\u001b[0m\n",
            "\u001b[0;32m/usr/local/lib/python3.10/dist-packages/google/colab/_message.py\u001b[0m in \u001b[0;36mblocking_request\u001b[0;34m(request_type, request, timeout_sec, parent)\u001b[0m\n\u001b[1;32m    174\u001b[0m       \u001b[0mrequest_type\u001b[0m\u001b[0;34m,\u001b[0m \u001b[0mrequest\u001b[0m\u001b[0;34m,\u001b[0m \u001b[0mparent\u001b[0m\u001b[0;34m=\u001b[0m\u001b[0mparent\u001b[0m\u001b[0;34m,\u001b[0m \u001b[0mexpect_reply\u001b[0m\u001b[0;34m=\u001b[0m\u001b[0;32mTrue\u001b[0m\u001b[0;34m\u001b[0m\u001b[0;34m\u001b[0m\u001b[0m\n\u001b[1;32m    175\u001b[0m   )\n\u001b[0;32m--> 176\u001b[0;31m   \u001b[0;32mreturn\u001b[0m \u001b[0mread_reply_from_input\u001b[0m\u001b[0;34m(\u001b[0m\u001b[0mrequest_id\u001b[0m\u001b[0;34m,\u001b[0m \u001b[0mtimeout_sec\u001b[0m\u001b[0;34m)\u001b[0m\u001b[0;34m\u001b[0m\u001b[0;34m\u001b[0m\u001b[0m\n\u001b[0m",
            "\u001b[0;32m/usr/local/lib/python3.10/dist-packages/google/colab/_message.py\u001b[0m in \u001b[0;36mread_reply_from_input\u001b[0;34m(message_id, timeout_sec)\u001b[0m\n\u001b[1;32m    101\u001b[0m     ):\n\u001b[1;32m    102\u001b[0m       \u001b[0;32mif\u001b[0m \u001b[0;34m'error'\u001b[0m \u001b[0;32min\u001b[0m \u001b[0mreply\u001b[0m\u001b[0;34m:\u001b[0m\u001b[0;34m\u001b[0m\u001b[0;34m\u001b[0m\u001b[0m\n\u001b[0;32m--> 103\u001b[0;31m         \u001b[0;32mraise\u001b[0m \u001b[0mMessageError\u001b[0m\u001b[0;34m(\u001b[0m\u001b[0mreply\u001b[0m\u001b[0;34m[\u001b[0m\u001b[0;34m'error'\u001b[0m\u001b[0;34m]\u001b[0m\u001b[0;34m)\u001b[0m\u001b[0;34m\u001b[0m\u001b[0;34m\u001b[0m\u001b[0m\n\u001b[0m\u001b[1;32m    104\u001b[0m       \u001b[0;32mreturn\u001b[0m \u001b[0mreply\u001b[0m\u001b[0;34m.\u001b[0m\u001b[0mget\u001b[0m\u001b[0;34m(\u001b[0m\u001b[0;34m'data'\u001b[0m\u001b[0;34m,\u001b[0m \u001b[0;32mNone\u001b[0m\u001b[0;34m)\u001b[0m\u001b[0;34m\u001b[0m\u001b[0;34m\u001b[0m\u001b[0m\n\u001b[1;32m    105\u001b[0m \u001b[0;34m\u001b[0m\u001b[0m\n",
            "\u001b[0;31mMessageError\u001b[0m: Error: credential propagation was unsuccessful"
          ]
        }
      ]
    },
    {
      "cell_type": "code",
      "source": [
        " !unzip '/content/gdrive/My Drive/archive (3).zip'"
      ],
      "metadata": {
        "id": "VBtmZ6t1aAuV",
        "colab": {
          "base_uri": "https://localhost:8080/"
        },
        "outputId": "1216893d-41fe-4a90-ecf1-a1ee1fa0a8c8"
      },
      "execution_count": 2,
      "outputs": [
        {
          "output_type": "stream",
          "name": "stdout",
          "text": [
            "Archive:  /content/gdrive/My Drive/archive (3).zip\n",
            "  inflating: ratings_Beauty.csv      \n"
          ]
        }
      ]
    },
    {
      "cell_type": "code",
      "source": [
        "\n",
        "data  = pd.read_csv('/content/ratings_Beauty.csv')\n",
        "data = data[['UserId', 'ProductId', 'Rating']]\n",
        "users = data['UserId'].unique()\n",
        "len(users)"
      ],
      "metadata": {
        "id": "5raPysU7DvFv",
        "colab": {
          "base_uri": "https://localhost:8080/"
        },
        "outputId": "e2044f0f-af34-4283-a8f0-7dc638f141de"
      },
      "execution_count": 3,
      "outputs": [
        {
          "output_type": "execute_result",
          "data": {
            "text/plain": [
              "1210271"
            ]
          },
          "metadata": {},
          "execution_count": 3
        }
      ]
    },
    {
      "cell_type": "code",
      "source": [
        "N = 2\n",
        "number_of_users_tokens = 1108\n",
        "elements = range(1, number_of_users_tokens)\n",
        "lists = [elements] * N\n",
        "combinations = list(itertools.product(*lists))\n",
        "combinations_of_users = [np.array(list(combo)) for combo in combinations]\n",
        "combinations_of_users = np.array(combinations_of_users[:len(users)])\n",
        "user_id_to_index = {userId: token for token, userId in tqdm(zip(combinations_of_users,users))}\n",
        "data['NewUserId'] = data['UserId'].map(user_id_to_index)\n",
        "data.iloc[:, 0] = data['NewUserId']\n",
        "data.drop(columns=['NewUserId'], inplace=True)\n",
        "products = data['ProductId'].unique()\n",
        "p=len(products)\n",
        "N = 2\n",
        "number_of_products_tokens = 720\n",
        "elements = range(1, number_of_products_tokens)\n",
        "lists = [elements] * N\n",
        "combinations = list(itertools.product(*lists))\n",
        "combinations_of_products = [list(combo) for combo in combinations]\n",
        "combinations_of_products = combinations_of_products[:p]\n",
        "product_id_to_index = {productId: token for token, productId in tqdm(zip(combinations_of_products,products))}\n",
        "data['NewproductId'] = data['ProductId'].map(product_id_to_index)\n",
        "data.iloc[:, 1] = data['NewproductId']\n",
        "data.drop(columns=['NewproductId'], inplace=True)"
      ],
      "metadata": {
        "id": "S35y8i-8DwbP",
        "colab": {
          "base_uri": "https://localhost:8080/"
        },
        "outputId": "127e5697-5636-4178-a9d0-031448268454"
      },
      "execution_count": 4,
      "outputs": [
        {
          "output_type": "stream",
          "name": "stderr",
          "text": [
            "1210271it [00:00, 1269944.69it/s]\n",
            "249274it [00:00, 1395911.77it/s]\n"
          ]
        }
      ]
    },
    {
      "cell_type": "code",
      "source": [
        "data.isna().any()"
      ],
      "metadata": {
        "id": "H8gKAyaSELY5",
        "colab": {
          "base_uri": "https://localhost:8080/",
          "height": 178
        },
        "outputId": "2e2a3a61-039f-44f7-ac57-0e75f2aea6d6"
      },
      "execution_count": 5,
      "outputs": [
        {
          "output_type": "execute_result",
          "data": {
            "text/plain": [
              "UserId       False\n",
              "ProductId    False\n",
              "Rating       False\n",
              "dtype: bool"
            ],
            "text/html": [
              "<div>\n",
              "<style scoped>\n",
              "    .dataframe tbody tr th:only-of-type {\n",
              "        vertical-align: middle;\n",
              "    }\n",
              "\n",
              "    .dataframe tbody tr th {\n",
              "        vertical-align: top;\n",
              "    }\n",
              "\n",
              "    .dataframe thead th {\n",
              "        text-align: right;\n",
              "    }\n",
              "</style>\n",
              "<table border=\"1\" class=\"dataframe\">\n",
              "  <thead>\n",
              "    <tr style=\"text-align: right;\">\n",
              "      <th></th>\n",
              "      <th>0</th>\n",
              "    </tr>\n",
              "  </thead>\n",
              "  <tbody>\n",
              "    <tr>\n",
              "      <th>UserId</th>\n",
              "      <td>False</td>\n",
              "    </tr>\n",
              "    <tr>\n",
              "      <th>ProductId</th>\n",
              "      <td>False</td>\n",
              "    </tr>\n",
              "    <tr>\n",
              "      <th>Rating</th>\n",
              "      <td>False</td>\n",
              "    </tr>\n",
              "  </tbody>\n",
              "</table>\n",
              "</div><br><label><b>dtype:</b> bool</label>"
            ]
          },
          "metadata": {},
          "execution_count": 5
        }
      ]
    },
    {
      "cell_type": "code",
      "source": [
        "X = data[['UserId','ProductId']].to_numpy()\n",
        "y = np.where(data['Rating'].to_numpy() > 3, 1, 0).astype(np.int32)\n"
      ],
      "metadata": {
        "id": "LHZLdkYZEPf-"
      },
      "execution_count": 7,
      "outputs": []
    },
    {
      "cell_type": "code",
      "source": [
        "X_train, X_test, y_train, y_test = train_test_split(X,y, test_size=0.3, random_state=10000)"
      ],
      "metadata": {
        "id": "xuCf4omVJOGX"
      },
      "execution_count": 8,
      "outputs": []
    },
    {
      "cell_type": "code",
      "source": [
        "X_train_user = X_train[:,0]\n",
        "X_test_user = X_test[:,0]\n",
        "X_train_item = X_train[:,1]\n",
        "X_test_item = X_test[:,1]\n",
        "del X_train, X_test, X, y"
      ],
      "metadata": {
        "id": "mj0FmhMqJPB-"
      },
      "execution_count": 9,
      "outputs": []
    },
    {
      "cell_type": "code",
      "source": [
        "X_train_user = np.array([arr for arr in X_train_user])\n",
        "X_test_user = np.array([arr for arr in X_test_user])\n",
        "X_train_item = np.array([arr for arr in X_train_item])\n",
        "X_test_item = np.array([arr for arr in X_test_item])"
      ],
      "metadata": {
        "id": "oGM_pOt2JTa0"
      },
      "execution_count": 10,
      "outputs": []
    },
    {
      "cell_type": "code",
      "source": [
        "user_shape = N\n",
        "item_shape = N\n",
        "num_user_tokens = number_of_users_tokens\n",
        "num_item_tokens = number_of_products_tokens"
      ],
      "metadata": {
        "id": "lakf4_MvJc6P"
      },
      "execution_count": 11,
      "outputs": []
    },
    {
      "cell_type": "code",
      "source": [
        "def create_mlp_model():\n",
        "    user_input = Input(shape=(user_shape,), name='user_input')\n",
        "    item_input = Input(shape=(item_shape,), name='item_input')\n",
        "\n",
        "    user_embedding = Embedding(input_dim=num_user_tokens, output_dim=embedding_dim, name='user_embedding')(user_input)\n",
        "    item_embedding = Embedding(input_dim=num_item_tokens, output_dim=embedding_dim, name='item_embedding')(item_input)\n",
        "\n",
        "    mlp_branch = tf.keras.layers.Concatenate()([Flatten()(user_embedding), Flatten()(item_embedding)])\n",
        "    mlp_branch = Dense(mlp_units, activation='relu')(mlp_branch)\n",
        "    mlp_branch = Dense(128, activation='relu')(mlp_branch)\n",
        "    mlp_branch = Dense(64, activation='relu')(mlp_branch)\n",
        "    mlp_output = Dense(1, activation='sigmoid')(mlp_branch)  # Binary output\n",
        "\n",
        "    mlp_model = Model(inputs=[user_input, item_input], outputs=mlp_output)\n",
        "    mlp_model.compile(optimizer=Adam(learning_rate=0.001), loss='binary_crossentropy', metrics=['accuracy'])\n",
        "    return mlp_model"
      ],
      "metadata": {
        "id": "PlPAjdFHRPKN"
      },
      "execution_count": 15,
      "outputs": []
    },
    {
      "cell_type": "code",
      "source": [
        "mlp_model = create_mlp_model()"
      ],
      "metadata": {
        "id": "lA94meg0RXeg"
      },
      "execution_count": 26,
      "outputs": []
    },
    {
      "cell_type": "code",
      "source": [
        "early_stopping = EarlyStopping(monitor='val_loss', patience=3, restore_best_weights=True)\n",
        "reduce_lr = ReduceLROnPlateau(monitor='val_loss', factor=0.2, patience=2, min_lr=0.0001)"
      ],
      "metadata": {
        "id": "BcYoBRyLYyf1"
      },
      "execution_count": 17,
      "outputs": []
    },
    {
      "cell_type": "code",
      "source": [
        "with tf.device('/device:gpu:0'):\n",
        "  mlp_model.fit((X_train_user,X_train_item),y_train, batch_size  = 10000, epochs = 100, validation_data=((X_test_user,X_test_item),y_test), callbacks=[early_stopping, reduce_lr])"
      ],
      "metadata": {
        "id": "Bs6AgQWDQ4Ta",
        "colab": {
          "base_uri": "https://localhost:8080/"
        },
        "outputId": "f9dc484c-3291-4311-c30d-5d07dfd46755"
      },
      "execution_count": 27,
      "outputs": [
        {
          "output_type": "stream",
          "name": "stdout",
          "text": [
            "Epoch 1/100\n",
            "\u001b[1m142/142\u001b[0m \u001b[32m━━━━━━━━━━━━━━━━━━━━\u001b[0m\u001b[37m\u001b[0m \u001b[1m4s\u001b[0m 15ms/step - accuracy: 0.7590 - loss: 0.5702 - val_accuracy: 0.7702 - val_loss: 0.5343 - learning_rate: 0.0010\n",
            "Epoch 2/100\n",
            "\u001b[1m142/142\u001b[0m \u001b[32m━━━━━━━━━━━━━━━━━━━━\u001b[0m\u001b[37m\u001b[0m \u001b[1m3s\u001b[0m 5ms/step - accuracy: 0.7692 - loss: 0.5333 - val_accuracy: 0.7702 - val_loss: 0.5315 - learning_rate: 0.0010\n",
            "Epoch 3/100\n",
            "\u001b[1m142/142\u001b[0m \u001b[32m━━━━━━━━━━━━━━━━━━━━\u001b[0m\u001b[37m\u001b[0m \u001b[1m1s\u001b[0m 5ms/step - accuracy: 0.7690 - loss: 0.5268 - val_accuracy: 0.7704 - val_loss: 0.5279 - learning_rate: 0.0010\n",
            "Epoch 4/100\n",
            "\u001b[1m142/142\u001b[0m \u001b[32m━━━━━━━━━━━━━━━━━━━━\u001b[0m\u001b[37m\u001b[0m \u001b[1m1s\u001b[0m 5ms/step - accuracy: 0.7705 - loss: 0.5148 - val_accuracy: 0.7707 - val_loss: 0.5287 - learning_rate: 0.0010\n",
            "Epoch 5/100\n",
            "\u001b[1m142/142\u001b[0m \u001b[32m━━━━━━━━━━━━━━━━━━━━\u001b[0m\u001b[37m\u001b[0m \u001b[1m1s\u001b[0m 6ms/step - accuracy: 0.7744 - loss: 0.5005 - val_accuracy: 0.7700 - val_loss: 0.5317 - learning_rate: 0.0010\n",
            "Epoch 6/100\n",
            "\u001b[1m142/142\u001b[0m \u001b[32m━━━━━━━━━━━━━━━━━━━━\u001b[0m\u001b[37m\u001b[0m \u001b[1m1s\u001b[0m 7ms/step - accuracy: 0.7788 - loss: 0.4820 - val_accuracy: 0.7624 - val_loss: 0.5443 - learning_rate: 2.0000e-04\n"
          ]
        }
      ]
    },
    {
      "cell_type": "code",
      "source": [],
      "metadata": {
        "id": "ABuMc-6qRzWb"
      },
      "execution_count": null,
      "outputs": []
    },
    {
      "cell_type": "code",
      "source": [
        "def predictions(user_data, item_data):\n",
        "\n",
        "    mlp_preds = mlp_model.predict([user_data, item_data])\n",
        "\n",
        "    return  mlp_preds\n",
        "\n",
        "# Predictions\n",
        "mlp_preds = predictions(X_test_user,X_test_item)\n",
        "\n",
        "\n",
        "mlp_predictions = (mlp_preds > 0.5).astype(int)\n"
      ],
      "metadata": {
        "id": "-IKuXglJ-PXH",
        "colab": {
          "base_uri": "https://localhost:8080/"
        },
        "outputId": "7b6f69ae-591c-42f7-9252-d62e46bffc43"
      },
      "execution_count": 31,
      "outputs": [
        {
          "output_type": "stream",
          "name": "stdout",
          "text": [
            "\u001b[1m18967/18967\u001b[0m \u001b[32m━━━━━━━━━━━━━━━━━━━━\u001b[0m\u001b[37m\u001b[0m \u001b[1m37s\u001b[0m 2ms/step\n"
          ]
        }
      ]
    },
    {
      "cell_type": "code",
      "source": [
        "precision = precision_score(y_test, mlp_predictions)\n",
        "recall = recall_score(y_test, mlp_predictions)\n",
        "f1 = f1_score(y_test, mlp_predictions)\n",
        "\n",
        "# Calculate regression error metrics\n",
        "mse = mean_squared_error(y_test, mlp_predictions)\n",
        "rmse = np.sqrt(mse)\n",
        "mae = mean_absolute_error(y_test, mlp_predictions)\n",
        "\n",
        "# Output metrics\n",
        "print(f'MLP Precision: {precision:.4f}')\n",
        "print(f'MLP Recall: {recall:.4f}')\n",
        "print(f'MLP F1-Score: {f1:.4f}')\n",
        "print(f'MLP MSE: {mse:.4f}')\n",
        "print(f'MLP RMSE: {rmse:.4f}')\n",
        "print(f'MLP MAE: {mae:.4f}')"
      ],
      "metadata": {
        "id": "gahQI2zz-WRb",
        "colab": {
          "base_uri": "https://localhost:8080/"
        },
        "outputId": "b283d9d4-142a-4aa4-950c-9254b51ac492"
      },
      "execution_count": 32,
      "outputs": [
        {
          "output_type": "stream",
          "name": "stdout",
          "text": [
            "MLP Precision: 0.7706\n",
            "MLP Recall: 0.9996\n",
            "MLP F1-Score: 0.8702\n",
            "MLP MSE: 0.2296\n",
            "MLP RMSE: 0.4791\n",
            "MLP MAE: 0.2296\n"
          ]
        }
      ]
    },
    {
      "cell_type": "code",
      "source": [
        "def quantization(model, user_data,item_data,relevent_items, X_test_item, X_test_user, y_test, quantization_factor = 8):\n",
        "  Q = create_mlp_model()\n",
        "  Q.set_weights(model.get_weights())\n",
        "  for i in range(len(model.weights)):\n",
        "    Q.weights[i].assign(tf.math.round(Q.weights[i] * quantization_factor) / quantization_factor)\n",
        "    Q.layers[i].trainable = False\n",
        "    with tf.device('/device:gpu:0'):\n",
        "      Q.fit((user_data,item_data),relevent_items, batch_size  = 10000, epochs = 100, validation_data=((X_test_user,X_test_item),y_test), callbacks=[early_stopping, reduce_lr])\n",
        "  return Q\n"
      ],
      "metadata": {
        "id": "vZmrhovaXW05"
      },
      "execution_count": 35,
      "outputs": []
    },
    {
      "cell_type": "code",
      "source": [
        "for i in range(len(mlp_model.weights)):\n",
        "  min = np.min( mlp_model.weights[i])\n",
        "  max = np.max(mlp_model.weights[i])\n",
        "  print(\"min: \",min,\"\\nmax: \", max)\n"
      ],
      "metadata": {
        "colab": {
          "base_uri": "https://localhost:8080/"
        },
        "id": "5G748W8MbeGz",
        "outputId": "f6bfc6c8-f737-4af3-e6b6-746aee74659f"
      },
      "execution_count": 44,
      "outputs": [
        {
          "output_type": "stream",
          "name": "stdout",
          "text": [
            "min:  -0.15647058 \n",
            "max:  0.15666014\n",
            "min:  -0.18618806 \n",
            "max:  0.20394401\n",
            "min:  -0.21875727 \n",
            "max:  0.22865771\n",
            "min:  -0.07082958 \n",
            "max:  0.006656631\n",
            "min:  -0.21419908 \n",
            "max:  0.299913\n",
            "min:  -0.07202435 \n",
            "max:  0.020231284\n",
            "min:  -0.24534576 \n",
            "max:  0.32019803\n",
            "min:  -0.055018086 \n",
            "max:  0.006846351\n",
            "min:  -0.29473174 \n",
            "max:  0.4332912\n",
            "min:  0.0071027293 \n",
            "max:  0.0071027293\n"
          ]
        }
      ]
    },
    {
      "cell_type": "code",
      "source": [
        "Q = quantization(mlp_model,X_train_user,X_train_item,y_train, X_test_user, X_test_item, y_test)"
      ],
      "metadata": {
        "colab": {
          "base_uri": "https://localhost:8080/"
        },
        "id": "EAleekM1dLDY",
        "outputId": "8e4e5183-fbd6-415e-c6d2-d27ba23d08b5"
      },
      "execution_count": 45,
      "outputs": [
        {
          "output_type": "stream",
          "name": "stdout",
          "text": [
            "Epoch 1/100\n",
            "\u001b[1m142/142\u001b[0m \u001b[32m━━━━━━━━━━━━━━━━━━━━\u001b[0m\u001b[37m\u001b[0m \u001b[1m6s\u001b[0m 21ms/step - accuracy: 0.7701 - loss: 0.5183 - val_accuracy: 0.7695 - val_loss: 0.5551 - learning_rate: 0.0010\n",
            "Epoch 2/100\n",
            "\u001b[1m142/142\u001b[0m \u001b[32m━━━━━━━━━━━━━━━━━━━━\u001b[0m\u001b[37m\u001b[0m \u001b[1m1s\u001b[0m 6ms/step - accuracy: 0.7731 - loss: 0.5043 - val_accuracy: 0.7642 - val_loss: 0.5630 - learning_rate: 0.0010\n",
            "Epoch 3/100\n",
            "\u001b[1m142/142\u001b[0m \u001b[32m━━━━━━━━━━━━━━━━━━━━\u001b[0m\u001b[37m\u001b[0m \u001b[1m1s\u001b[0m 5ms/step - accuracy: 0.7776 - loss: 0.4916 - val_accuracy: 0.7485 - val_loss: 0.5753 - learning_rate: 0.0010\n",
            "Epoch 1/100\n",
            "\u001b[1m142/142\u001b[0m \u001b[32m━━━━━━━━━━━━━━━━━━━━\u001b[0m\u001b[37m\u001b[0m \u001b[1m1s\u001b[0m 5ms/step - accuracy: 0.7708 - loss: 0.5124 - val_accuracy: 0.7665 - val_loss: 0.5606 - learning_rate: 2.0000e-04\n",
            "Epoch 2/100\n",
            "\u001b[1m142/142\u001b[0m \u001b[32m━━━━━━━━━━━━━━━━━━━━\u001b[0m\u001b[37m\u001b[0m \u001b[1m2s\u001b[0m 6ms/step - accuracy: 0.7733 - loss: 0.5036 - val_accuracy: 0.7604 - val_loss: 0.5672 - learning_rate: 2.0000e-04\n",
            "Epoch 3/100\n",
            "\u001b[1m142/142\u001b[0m \u001b[32m━━━━━━━━━━━━━━━━━━━━\u001b[0m\u001b[37m\u001b[0m \u001b[1m1s\u001b[0m 4ms/step - accuracy: 0.7747 - loss: 0.4985 - val_accuracy: 0.7517 - val_loss: 0.5742 - learning_rate: 2.0000e-04\n",
            "Epoch 1/100\n",
            "\u001b[1m142/142\u001b[0m \u001b[32m━━━━━━━━━━━━━━━━━━━━\u001b[0m\u001b[37m\u001b[0m \u001b[1m1s\u001b[0m 5ms/step - accuracy: 0.7711 - loss: 0.5169 - val_accuracy: 0.7658 - val_loss: 0.5615 - learning_rate: 1.0000e-04\n",
            "Epoch 2/100\n",
            "\u001b[1m142/142\u001b[0m \u001b[32m━━━━━━━━━━━━━━━━━━━━\u001b[0m\u001b[37m\u001b[0m \u001b[1m1s\u001b[0m 5ms/step - accuracy: 0.7721 - loss: 0.5078 - val_accuracy: 0.7635 - val_loss: 0.5640 - learning_rate: 1.0000e-04\n",
            "Epoch 3/100\n",
            "\u001b[1m142/142\u001b[0m \u001b[32m━━━━━━━━━━━━━━━━━━━━\u001b[0m\u001b[37m\u001b[0m \u001b[1m1s\u001b[0m 5ms/step - accuracy: 0.7727 - loss: 0.5047 - val_accuracy: 0.7604 - val_loss: 0.5672 - learning_rate: 1.0000e-04\n",
            "Epoch 1/100\n",
            "\u001b[1m142/142\u001b[0m \u001b[32m━━━━━━━━━━━━━━━━━━━━\u001b[0m\u001b[37m\u001b[0m \u001b[1m1s\u001b[0m 7ms/step - accuracy: 0.7701 - loss: 0.5344 - val_accuracy: 0.7691 - val_loss: 0.5556 - learning_rate: 1.0000e-04\n",
            "Epoch 2/100\n",
            "\u001b[1m142/142\u001b[0m \u001b[32m━━━━━━━━━━━━━━━━━━━━\u001b[0m\u001b[37m\u001b[0m \u001b[1m1s\u001b[0m 7ms/step - accuracy: 0.7721 - loss: 0.5070 - val_accuracy: 0.7685 - val_loss: 0.5583 - learning_rate: 1.0000e-04\n",
            "Epoch 3/100\n",
            "\u001b[1m142/142\u001b[0m \u001b[32m━━━━━━━━━━━━━━━━━━━━\u001b[0m\u001b[37m\u001b[0m \u001b[1m1s\u001b[0m 7ms/step - accuracy: 0.7734 - loss: 0.5036 - val_accuracy: 0.7670 - val_loss: 0.5612 - learning_rate: 1.0000e-04\n",
            "Epoch 1/100\n",
            "\u001b[1m142/142\u001b[0m \u001b[32m━━━━━━━━━━━━━━━━━━━━\u001b[0m\u001b[37m\u001b[0m \u001b[1m1s\u001b[0m 5ms/step - accuracy: 0.7725 - loss: 0.5075 - val_accuracy: 0.7680 - val_loss: 0.5585 - learning_rate: 1.0000e-04\n",
            "Epoch 2/100\n",
            "\u001b[1m142/142\u001b[0m \u001b[32m━━━━━━━━━━━━━━━━━━━━\u001b[0m\u001b[37m\u001b[0m \u001b[1m1s\u001b[0m 4ms/step - accuracy: 0.7724 - loss: 0.5045 - val_accuracy: 0.7664 - val_loss: 0.5618 - learning_rate: 1.0000e-04\n",
            "Epoch 3/100\n",
            "\u001b[1m142/142\u001b[0m \u001b[32m━━━━━━━━━━━━━━━━━━━━\u001b[0m\u001b[37m\u001b[0m \u001b[1m1s\u001b[0m 5ms/step - accuracy: 0.7743 - loss: 0.5008 - val_accuracy: 0.7645 - val_loss: 0.5653 - learning_rate: 1.0000e-04\n",
            "Epoch 1/100\n",
            "\u001b[1m142/142\u001b[0m \u001b[32m━━━━━━━━━━━━━━━━━━━━\u001b[0m\u001b[37m\u001b[0m \u001b[1m1s\u001b[0m 5ms/step - accuracy: 0.7721 - loss: 0.5083 - val_accuracy: 0.7689 - val_loss: 0.5579 - learning_rate: 1.0000e-04\n",
            "Epoch 2/100\n",
            "\u001b[1m142/142\u001b[0m \u001b[32m━━━━━━━━━━━━━━━━━━━━\u001b[0m\u001b[37m\u001b[0m \u001b[1m1s\u001b[0m 5ms/step - accuracy: 0.7736 - loss: 0.5019 - val_accuracy: 0.7675 - val_loss: 0.5616 - learning_rate: 1.0000e-04\n",
            "Epoch 3/100\n",
            "\u001b[1m142/142\u001b[0m \u001b[32m━━━━━━━━━━━━━━━━━━━━\u001b[0m\u001b[37m\u001b[0m \u001b[1m1s\u001b[0m 5ms/step - accuracy: 0.7742 - loss: 0.4992 - val_accuracy: 0.7656 - val_loss: 0.5652 - learning_rate: 1.0000e-04\n",
            "Epoch 1/100\n",
            "\u001b[1m142/142\u001b[0m \u001b[32m━━━━━━━━━━━━━━━━━━━━\u001b[0m\u001b[37m\u001b[0m \u001b[1m1s\u001b[0m 5ms/step - accuracy: 0.7735 - loss: 0.5029 - val_accuracy: 0.7674 - val_loss: 0.5616 - learning_rate: 1.0000e-04\n",
            "Epoch 2/100\n",
            "\u001b[1m142/142\u001b[0m \u001b[32m━━━━━━━━━━━━━━━━━━━━\u001b[0m\u001b[37m\u001b[0m \u001b[1m1s\u001b[0m 5ms/step - accuracy: 0.7747 - loss: 0.4988 - val_accuracy: 0.7650 - val_loss: 0.5655 - learning_rate: 1.0000e-04\n",
            "Epoch 3/100\n",
            "\u001b[1m142/142\u001b[0m \u001b[32m━━━━━━━━━━━━━━━━━━━━\u001b[0m\u001b[37m\u001b[0m \u001b[1m1s\u001b[0m 4ms/step - accuracy: 0.7751 - loss: 0.4965 - val_accuracy: 0.7629 - val_loss: 0.5691 - learning_rate: 1.0000e-04\n",
            "Epoch 1/100\n",
            "\u001b[1m142/142\u001b[0m \u001b[32m━━━━━━━━━━━━━━━━━━━━\u001b[0m\u001b[37m\u001b[0m \u001b[1m1s\u001b[0m 6ms/step - accuracy: 0.7744 - loss: 0.4991 - val_accuracy: 0.7652 - val_loss: 0.5656 - learning_rate: 1.0000e-04\n",
            "Epoch 2/100\n",
            "\u001b[1m142/142\u001b[0m \u001b[32m━━━━━━━━━━━━━━━━━━━━\u001b[0m\u001b[37m\u001b[0m \u001b[1m1s\u001b[0m 7ms/step - accuracy: 0.7752 - loss: 0.4963 - val_accuracy: 0.7631 - val_loss: 0.5693 - learning_rate: 1.0000e-04\n",
            "Epoch 3/100\n",
            "\u001b[1m142/142\u001b[0m \u001b[32m━━━━━━━━━━━━━━━━━━━━\u001b[0m\u001b[37m\u001b[0m \u001b[1m1s\u001b[0m 8ms/step - accuracy: 0.7758 - loss: 0.4943 - val_accuracy: 0.7598 - val_loss: 0.5731 - learning_rate: 1.0000e-04\n",
            "Epoch 1/100\n",
            "\u001b[1m142/142\u001b[0m \u001b[32m━━━━━━━━━━━━━━━━━━━━\u001b[0m\u001b[37m\u001b[0m \u001b[1m1s\u001b[0m 6ms/step - accuracy: 0.7751 - loss: 0.4969 - val_accuracy: 0.7624 - val_loss: 0.5700 - learning_rate: 1.0000e-04\n",
            "Epoch 2/100\n",
            "\u001b[1m142/142\u001b[0m \u001b[32m━━━━━━━━━━━━━━━━━━━━\u001b[0m\u001b[37m\u001b[0m \u001b[1m1s\u001b[0m 5ms/step - accuracy: 0.7760 - loss: 0.4940 - val_accuracy: 0.7587 - val_loss: 0.5735 - learning_rate: 1.0000e-04\n",
            "Epoch 3/100\n",
            "\u001b[1m142/142\u001b[0m \u001b[32m━━━━━━━━━━━━━━━━━━━━\u001b[0m\u001b[37m\u001b[0m \u001b[1m1s\u001b[0m 5ms/step - accuracy: 0.7767 - loss: 0.4921 - val_accuracy: 0.7560 - val_loss: 0.5771 - learning_rate: 1.0000e-04\n",
            "Epoch 1/100\n",
            "\u001b[1m142/142\u001b[0m \u001b[32m━━━━━━━━━━━━━━━━━━━━\u001b[0m\u001b[37m\u001b[0m \u001b[1m1s\u001b[0m 5ms/step - accuracy: 0.7759 - loss: 0.4940 - val_accuracy: 0.7607 - val_loss: 0.5733 - learning_rate: 1.0000e-04\n",
            "Epoch 2/100\n",
            "\u001b[1m142/142\u001b[0m \u001b[32m━━━━━━━━━━━━━━━━━━━━\u001b[0m\u001b[37m\u001b[0m \u001b[1m1s\u001b[0m 5ms/step - accuracy: 0.7770 - loss: 0.4915 - val_accuracy: 0.7560 - val_loss: 0.5769 - learning_rate: 1.0000e-04\n",
            "Epoch 3/100\n",
            "\u001b[1m142/142\u001b[0m \u001b[32m━━━━━━━━━━━━━━━━━━━━\u001b[0m\u001b[37m\u001b[0m \u001b[1m1s\u001b[0m 5ms/step - accuracy: 0.7783 - loss: 0.4890 - val_accuracy: 0.7532 - val_loss: 0.5804 - learning_rate: 1.0000e-04\n"
          ]
        }
      ]
    },
    {
      "cell_type": "code",
      "source": [
        "def quantized_model_predictions(user_data, item_data):\n",
        "\n",
        "    mlp_preds = Q.predict([user_data, item_data])\n",
        "\n",
        "    return  mlp_preds\n",
        "\n",
        "# Predictions\n",
        "mlp_preds = quantized_model_predictions(X_test_user,X_test_item)\n",
        "\n",
        "\n",
        "mlp_predictions = (mlp_preds > 0.5).astype(int)"
      ],
      "metadata": {
        "colab": {
          "base_uri": "https://localhost:8080/"
        },
        "id": "VlEQc9eZdZmv",
        "outputId": "a7a49dd5-a3b1-41cc-a48a-ba668f90e4b3"
      },
      "execution_count": 47,
      "outputs": [
        {
          "output_type": "stream",
          "name": "stdout",
          "text": [
            "\u001b[1m18967/18967\u001b[0m \u001b[32m━━━━━━━━━━━━━━━━━━━━\u001b[0m\u001b[37m\u001b[0m \u001b[1m33s\u001b[0m 2ms/step\n"
          ]
        }
      ]
    },
    {
      "cell_type": "code",
      "source": [
        "precision = precision_score(y_test, mlp_predictions)\n",
        "recall = recall_score(y_test, mlp_predictions)\n",
        "f1 = f1_score(y_test, mlp_predictions)\n",
        "\n",
        "# Calculate regression error metrics\n",
        "mse = mean_squared_error(y_test, mlp_predictions)\n",
        "rmse = np.sqrt(mse)\n",
        "mae = mean_absolute_error(y_test, mlp_predictions)\n",
        "\n",
        "# Output metrics\n",
        "print(f'Quantized MLP Precision: {precision:.4f}')\n",
        "print(f'Quantized MLP Recall: {recall:.4f}')\n",
        "print(f'Quantized MLP F1-Score: {f1:.4f}')\n",
        "print(f'Quantized MLP MSE: {mse:.4f}')\n",
        "print(f'Quantized MLP RMSE: {rmse:.4f}')\n",
        "print(f'Quantized MLP MAE: {mae:.4f}')"
      ],
      "metadata": {
        "colab": {
          "base_uri": "https://localhost:8080/"
        },
        "id": "ri7X1Sd4dvB2",
        "outputId": "442224a1-822e-4ec7-fcb8-6fca748c4316"
      },
      "execution_count": 48,
      "outputs": [
        {
          "output_type": "stream",
          "name": "stdout",
          "text": [
            "Quantized MLP Precision: 0.7776\n",
            "Quantized MLP Recall: 0.9785\n",
            "Quantized MLP F1-Score: 0.8666\n",
            "Quantized MLP MSE: 0.2321\n",
            "Quantized MLP RMSE: 0.4818\n",
            "Quantized MLP MAE: 0.2321\n"
          ]
        }
      ]
    },
    {
      "cell_type": "code",
      "source": [
        "import matplotlib.pyplot as plt\n",
        "\n",
        "\n",
        "\n",
        "metrics_1 = ['MAE', 'MSE', 'RMSE']\n",
        "mlp_values_1 = [0.2296, 0.2296, 0.4791]\n",
        "quantized_values_1 = [0.2321, 0.2321, 0.4818]\n",
        "\n",
        "metrics_2 = ['Precision', 'Recall', 'F1-Score']\n",
        "mlp_values_2 = [0.7706, 0.9996, 0.8702]\n",
        "quantized_values_2 = [0.7776, 0.9785, 0.8666]\n",
        "\n",
        "\n",
        "x1 = np.arange(len(metrics_1))\n",
        "x2 = np.arange(len(metrics_2))\n",
        "bar_width = 0.35\n",
        "\n",
        "plt.figure(figsize=(8, 6))\n",
        "plt.bar(x1 - bar_width / 2, mlp_values_1, bar_width, label='MLP recommender', color='blue', alpha=0.7)\n",
        "plt.bar(x1 + bar_width / 2, quantized_values_1, bar_width, label='Quantized MLP recommender', color='orange', alpha=0.7)\n",
        "plt.xticks(x1, metrics_1)\n",
        "plt.ylabel('Values')\n",
        "plt.title('Comparison of MAE, MSE, and RMSE')\n",
        "plt.legend()\n",
        "plt.grid(axis='y', linestyle='--', alpha=0.7)\n",
        "plt.tight_layout()\n",
        "plt.savefig('/content/Comparison_MAE_MSE_RMSE.png')\n",
        "\n",
        "\n",
        "plt.figure(figsize=(8, 6))\n",
        "plt.bar(x2 - bar_width / 2, mlp_values_2, bar_width, label='MLP recommender', color='blue', alpha=0.7)\n",
        "plt.bar(x2 + bar_width / 2, quantized_values_2, bar_width, label='Quantized MLP recommender', color='orange', alpha=0.7)\n",
        "plt.xticks(x2, metrics_2)\n",
        "plt.ylabel('Values')\n",
        "plt.title('Comparison of Precision, Recall, and F1-Score')\n",
        "plt.legend()\n",
        "plt.grid(axis='y', linestyle='--', alpha=0.7)\n",
        "plt.tight_layout()\n",
        "\n",
        "plt.savefig('/content/Comparison_Precision_Recall_F1Score.png')\n",
        "plt.show()\n"
      ],
      "metadata": {
        "colab": {
          "base_uri": "https://localhost:8080/",
          "height": 1000
        },
        "id": "tUBSDi4EeT2m",
        "outputId": "71b6301c-e69f-4936-ca95-b3a040b4f380"
      },
      "execution_count": 4,
      "outputs": [
        {
          "output_type": "display_data",
          "data": {
            "text/plain": [
              "<Figure size 800x600 with 1 Axes>"
            ],
            "image/png": "[encoded data removed]"
          },
          "metadata": {}
        },
        {
          "output_type": "display_data",
          "data": {
            "text/plain": [
              "<Figure size 800x600 with 1 Axes>"
            ],
            "image/png": "[encoded data removed]"
          },
          "metadata": {}
        }
      ]
    }
  ]
}